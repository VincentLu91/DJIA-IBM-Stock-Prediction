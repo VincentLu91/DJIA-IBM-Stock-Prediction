{
 "cells": [
  {
   "cell_type": "code",
   "execution_count": 1,
   "metadata": {},
   "outputs": [],
   "source": [
    "import numpy as np\n",
    "import matplotlib.pyplot as plt \n",
    "import pandas as pd"
   ]
  },
  {
   "cell_type": "code",
   "execution_count": 2,
   "metadata": {},
   "outputs": [],
   "source": [
    "dataset_IBM = pd.read_csv('IBM_2006-01-01_to_2018-01-01.csv')\n",
    "dataset_IBM = dataset_IBM.fillna(dataset_IBM.mean())"
   ]
  },
  {
   "cell_type": "code",
   "execution_count": 3,
   "metadata": {},
   "outputs": [
    {
     "data": {
      "text/html": [
       "<div>\n",
       "<style scoped>\n",
       "    .dataframe tbody tr th:only-of-type {\n",
       "        vertical-align: middle;\n",
       "    }\n",
       "\n",
       "    .dataframe tbody tr th {\n",
       "        vertical-align: top;\n",
       "    }\n",
       "\n",
       "    .dataframe thead th {\n",
       "        text-align: right;\n",
       "    }\n",
       "</style>\n",
       "<table border=\"1\" class=\"dataframe\">\n",
       "  <thead>\n",
       "    <tr style=\"text-align: right;\">\n",
       "      <th></th>\n",
       "      <th>Open</th>\n",
       "      <th>High</th>\n",
       "      <th>Low</th>\n",
       "      <th>Close</th>\n",
       "      <th>Volume</th>\n",
       "    </tr>\n",
       "  </thead>\n",
       "  <tbody>\n",
       "    <tr>\n",
       "      <th>count</th>\n",
       "      <td>3020.000000</td>\n",
       "      <td>3020.000000</td>\n",
       "      <td>3020.000000</td>\n",
       "      <td>3020.000000</td>\n",
       "      <td>3.020000e+03</td>\n",
       "    </tr>\n",
       "    <tr>\n",
       "      <th>mean</th>\n",
       "      <td>145.515545</td>\n",
       "      <td>146.681738</td>\n",
       "      <td>144.471597</td>\n",
       "      <td>145.617278</td>\n",
       "      <td>5.773301e+06</td>\n",
       "    </tr>\n",
       "    <tr>\n",
       "      <th>std</th>\n",
       "      <td>37.548726</td>\n",
       "      <td>37.613446</td>\n",
       "      <td>37.471433</td>\n",
       "      <td>37.529387</td>\n",
       "      <td>3.192831e+06</td>\n",
       "    </tr>\n",
       "    <tr>\n",
       "      <th>min</th>\n",
       "      <td>72.740000</td>\n",
       "      <td>73.940000</td>\n",
       "      <td>69.500000</td>\n",
       "      <td>71.740000</td>\n",
       "      <td>2.542560e+05</td>\n",
       "    </tr>\n",
       "    <tr>\n",
       "      <th>25%</th>\n",
       "      <td>116.407500</td>\n",
       "      <td>117.765000</td>\n",
       "      <td>115.500000</td>\n",
       "      <td>116.525000</td>\n",
       "      <td>3.622681e+06</td>\n",
       "    </tr>\n",
       "    <tr>\n",
       "      <th>50%</th>\n",
       "      <td>149.605000</td>\n",
       "      <td>150.330000</td>\n",
       "      <td>148.425000</td>\n",
       "      <td>149.315000</td>\n",
       "      <td>4.928852e+06</td>\n",
       "    </tr>\n",
       "    <tr>\n",
       "      <th>75%</th>\n",
       "      <td>178.437500</td>\n",
       "      <td>179.762500</td>\n",
       "      <td>177.320000</td>\n",
       "      <td>178.685000</td>\n",
       "      <td>6.965014e+06</td>\n",
       "    </tr>\n",
       "    <tr>\n",
       "      <th>max</th>\n",
       "      <td>215.380000</td>\n",
       "      <td>215.900000</td>\n",
       "      <td>214.300000</td>\n",
       "      <td>215.800000</td>\n",
       "      <td>3.077428e+07</td>\n",
       "    </tr>\n",
       "  </tbody>\n",
       "</table>\n",
       "</div>"
      ],
      "text/plain": [
       "              Open         High          Low        Close        Volume\n",
       "count  3020.000000  3020.000000  3020.000000  3020.000000  3.020000e+03\n",
       "mean    145.515545   146.681738   144.471597   145.617278  5.773301e+06\n",
       "std      37.548726    37.613446    37.471433    37.529387  3.192831e+06\n",
       "min      72.740000    73.940000    69.500000    71.740000  2.542560e+05\n",
       "25%     116.407500   117.765000   115.500000   116.525000  3.622681e+06\n",
       "50%     149.605000   150.330000   148.425000   149.315000  4.928852e+06\n",
       "75%     178.437500   179.762500   177.320000   178.685000  6.965014e+06\n",
       "max     215.380000   215.900000   214.300000   215.800000  3.077428e+07"
      ]
     },
     "execution_count": 3,
     "metadata": {},
     "output_type": "execute_result"
    }
   ],
   "source": [
    "dataset_IBM.describe()"
   ]
  },
  {
   "cell_type": "code",
   "execution_count": 4,
   "metadata": {},
   "outputs": [
    {
     "data": {
      "text/html": [
       "<div>\n",
       "<style scoped>\n",
       "    .dataframe tbody tr th:only-of-type {\n",
       "        vertical-align: middle;\n",
       "    }\n",
       "\n",
       "    .dataframe tbody tr th {\n",
       "        vertical-align: top;\n",
       "    }\n",
       "\n",
       "    .dataframe thead th {\n",
       "        text-align: right;\n",
       "    }\n",
       "</style>\n",
       "<table border=\"1\" class=\"dataframe\">\n",
       "  <thead>\n",
       "    <tr style=\"text-align: right;\">\n",
       "      <th></th>\n",
       "      <th>Date</th>\n",
       "      <th>Open</th>\n",
       "      <th>High</th>\n",
       "      <th>Low</th>\n",
       "      <th>Close</th>\n",
       "      <th>Volume</th>\n",
       "      <th>Name</th>\n",
       "    </tr>\n",
       "  </thead>\n",
       "  <tbody>\n",
       "    <tr>\n",
       "      <th>0</th>\n",
       "      <td>2006-01-03</td>\n",
       "      <td>82.45</td>\n",
       "      <td>82.55</td>\n",
       "      <td>80.81</td>\n",
       "      <td>82.06</td>\n",
       "      <td>11715200</td>\n",
       "      <td>IBM</td>\n",
       "    </tr>\n",
       "    <tr>\n",
       "      <th>1</th>\n",
       "      <td>2006-01-04</td>\n",
       "      <td>82.20</td>\n",
       "      <td>82.50</td>\n",
       "      <td>81.33</td>\n",
       "      <td>81.95</td>\n",
       "      <td>9840600</td>\n",
       "      <td>IBM</td>\n",
       "    </tr>\n",
       "    <tr>\n",
       "      <th>2</th>\n",
       "      <td>2006-01-05</td>\n",
       "      <td>81.40</td>\n",
       "      <td>82.90</td>\n",
       "      <td>81.00</td>\n",
       "      <td>82.50</td>\n",
       "      <td>7213500</td>\n",
       "      <td>IBM</td>\n",
       "    </tr>\n",
       "    <tr>\n",
       "      <th>3</th>\n",
       "      <td>2006-01-06</td>\n",
       "      <td>83.95</td>\n",
       "      <td>85.03</td>\n",
       "      <td>83.41</td>\n",
       "      <td>84.95</td>\n",
       "      <td>8197400</td>\n",
       "      <td>IBM</td>\n",
       "    </tr>\n",
       "    <tr>\n",
       "      <th>4</th>\n",
       "      <td>2006-01-09</td>\n",
       "      <td>84.10</td>\n",
       "      <td>84.25</td>\n",
       "      <td>83.38</td>\n",
       "      <td>83.73</td>\n",
       "      <td>6858200</td>\n",
       "      <td>IBM</td>\n",
       "    </tr>\n",
       "  </tbody>\n",
       "</table>\n",
       "</div>"
      ],
      "text/plain": [
       "         Date   Open   High    Low  Close    Volume Name\n",
       "0  2006-01-03  82.45  82.55  80.81  82.06  11715200  IBM\n",
       "1  2006-01-04  82.20  82.50  81.33  81.95   9840600  IBM\n",
       "2  2006-01-05  81.40  82.90  81.00  82.50   7213500  IBM\n",
       "3  2006-01-06  83.95  85.03  83.41  84.95   8197400  IBM\n",
       "4  2006-01-09  84.10  84.25  83.38  83.73   6858200  IBM"
      ]
     },
     "execution_count": 4,
     "metadata": {},
     "output_type": "execute_result"
    }
   ],
   "source": [
    "dataset_IBM.head()"
   ]
  },
  {
   "cell_type": "code",
   "execution_count": 5,
   "metadata": {},
   "outputs": [
    {
     "data": {
      "text/html": [
       "<div>\n",
       "<style scoped>\n",
       "    .dataframe tbody tr th:only-of-type {\n",
       "        vertical-align: middle;\n",
       "    }\n",
       "\n",
       "    .dataframe tbody tr th {\n",
       "        vertical-align: top;\n",
       "    }\n",
       "\n",
       "    .dataframe thead th {\n",
       "        text-align: right;\n",
       "    }\n",
       "</style>\n",
       "<table border=\"1\" class=\"dataframe\">\n",
       "  <thead>\n",
       "    <tr style=\"text-align: right;\">\n",
       "      <th></th>\n",
       "      <th>Date</th>\n",
       "      <th>Open</th>\n",
       "      <th>High</th>\n",
       "      <th>Low</th>\n",
       "      <th>Close</th>\n",
       "      <th>Volume</th>\n",
       "      <th>Name</th>\n",
       "    </tr>\n",
       "  </thead>\n",
       "  <tbody>\n",
       "    <tr>\n",
       "      <th>3015</th>\n",
       "      <td>2017-12-22</td>\n",
       "      <td>151.82</td>\n",
       "      <td>153.00</td>\n",
       "      <td>151.50</td>\n",
       "      <td>152.50</td>\n",
       "      <td>2990583</td>\n",
       "      <td>IBM</td>\n",
       "    </tr>\n",
       "    <tr>\n",
       "      <th>3016</th>\n",
       "      <td>2017-12-26</td>\n",
       "      <td>152.51</td>\n",
       "      <td>153.86</td>\n",
       "      <td>152.50</td>\n",
       "      <td>152.83</td>\n",
       "      <td>2479017</td>\n",
       "      <td>IBM</td>\n",
       "    </tr>\n",
       "    <tr>\n",
       "      <th>3017</th>\n",
       "      <td>2017-12-27</td>\n",
       "      <td>152.95</td>\n",
       "      <td>153.18</td>\n",
       "      <td>152.61</td>\n",
       "      <td>153.13</td>\n",
       "      <td>2149257</td>\n",
       "      <td>IBM</td>\n",
       "    </tr>\n",
       "    <tr>\n",
       "      <th>3018</th>\n",
       "      <td>2017-12-28</td>\n",
       "      <td>153.20</td>\n",
       "      <td>154.12</td>\n",
       "      <td>153.20</td>\n",
       "      <td>154.04</td>\n",
       "      <td>2687624</td>\n",
       "      <td>IBM</td>\n",
       "    </tr>\n",
       "    <tr>\n",
       "      <th>3019</th>\n",
       "      <td>2017-12-29</td>\n",
       "      <td>154.17</td>\n",
       "      <td>154.72</td>\n",
       "      <td>153.42</td>\n",
       "      <td>153.42</td>\n",
       "      <td>3327087</td>\n",
       "      <td>IBM</td>\n",
       "    </tr>\n",
       "  </tbody>\n",
       "</table>\n",
       "</div>"
      ],
      "text/plain": [
       "            Date    Open    High     Low   Close   Volume Name\n",
       "3015  2017-12-22  151.82  153.00  151.50  152.50  2990583  IBM\n",
       "3016  2017-12-26  152.51  153.86  152.50  152.83  2479017  IBM\n",
       "3017  2017-12-27  152.95  153.18  152.61  153.13  2149257  IBM\n",
       "3018  2017-12-28  153.20  154.12  153.20  154.04  2687624  IBM\n",
       "3019  2017-12-29  154.17  154.72  153.42  153.42  3327087  IBM"
      ]
     },
     "execution_count": 5,
     "metadata": {},
     "output_type": "execute_result"
    }
   ],
   "source": [
    "dataset_IBM.tail()"
   ]
  },
  {
   "cell_type": "code",
   "execution_count": 6,
   "metadata": {},
   "outputs": [
    {
     "data": {
      "text/plain": [
       "array([[ 82.45],\n",
       "       [ 82.2 ],\n",
       "       [ 81.4 ],\n",
       "       ...,\n",
       "       [177.99],\n",
       "       [176.88],\n",
       "       [177.  ]])"
      ]
     },
     "execution_count": 6,
     "metadata": {},
     "output_type": "execute_result"
    }
   ],
   "source": [
    "training_set = dataset_IBM.iloc[0:2000, 1:2].values\n",
    "training_set"
   ]
  },
  {
   "cell_type": "code",
   "execution_count": 7,
   "metadata": {},
   "outputs": [
    {
     "data": {
      "text/plain": [
       "array([[0.06807347],\n",
       "       [0.06632081],\n",
       "       [0.06071228],\n",
       "       ...,\n",
       "       [0.73787156],\n",
       "       [0.73008974],\n",
       "       [0.73093102]])"
      ]
     },
     "execution_count": 7,
     "metadata": {},
     "output_type": "execute_result"
    }
   ],
   "source": [
    "from sklearn.preprocessing import MinMaxScaler\n",
    "sc = MinMaxScaler(feature_range = (0,1))\n",
    "sc_training_set = sc.fit_transform(training_set)\n",
    "sc_training_set"
   ]
  },
  {
   "cell_type": "code",
   "execution_count": 8,
   "metadata": {},
   "outputs": [],
   "source": [
    "# Create a data structure with 120 timesteps and 1 output to predict every 30 days\n",
    "X_train = []\n",
    "y_train = []\n",
    "for i in range(120, 2000, 30):\n",
    "    X_train.append(sc_training_set[i-120:i,0])\n",
    "    y_train.append(sc_training_set[i,0])"
   ]
  },
  {
   "cell_type": "code",
   "execution_count": 9,
   "metadata": {},
   "outputs": [],
   "source": [
    "# convert them from lists to numpy arrays to train the estimator later\n",
    "X_train = np.array(X_train)\n",
    "X_train = np.reshape(X_train, (X_train.shape[0], X_train.shape[1], 1))\n",
    "y_train = np.array(y_train)"
   ]
  },
  {
   "cell_type": "code",
   "execution_count": 10,
   "metadata": {},
   "outputs": [
    {
     "name": "stderr",
     "output_type": "stream",
     "text": [
      "Using TensorFlow backend.\n"
     ]
    }
   ],
   "source": [
    "# Import the following libraries to build RNN architecture\n",
    "from keras.models import Sequential\n",
    "from keras.layers import Dense\n",
    "from keras.layers import LSTM\n",
    "from keras.layers import Dropout"
   ]
  },
  {
   "cell_type": "code",
   "execution_count": 11,
   "metadata": {},
   "outputs": [],
   "source": [
    "# Initialize RNN, 2 LSTM layers\n",
    "estimator = Sequential()\n",
    "\n",
    "estimator.add(LSTM(units=100,return_sequences=True,input_shape=(X_train.shape[1],1)))\n",
    "estimator.add(Dropout(0.2))\n",
    "\n",
    "# final LSTM layer\n",
    "estimator.add(LSTM(units = 100))\n",
    "estimator.add(Dropout(0.2))\n",
    "\n",
    "# add output layer\n",
    "estimator.add(Dense(units = 1))"
   ]
  },
  {
   "cell_type": "code",
   "execution_count": 12,
   "metadata": {},
   "outputs": [],
   "source": [
    "# compiling the RNN\n",
    "estimator.compile(optimizer = 'adam', loss = 'mean_squared_error')"
   ]
  },
  {
   "cell_type": "code",
   "execution_count": 26,
   "metadata": {
    "scrolled": true
   },
   "outputs": [
    {
     "name": "stdout",
     "output_type": "stream",
     "text": [
      "Epoch 1/6\n",
      "63/63 [==============================] - 2s 28ms/step - loss: 0.0425\n",
      "Epoch 2/6\n",
      "63/63 [==============================] - 2s 31ms/step - loss: 0.0227\n",
      "Epoch 3/6\n",
      "63/63 [==============================] - 2s 30ms/step - loss: 0.0049\n",
      "Epoch 4/6\n",
      "63/63 [==============================] - 2s 30ms/step - loss: 0.0133\n",
      "Epoch 5/6\n",
      "63/63 [==============================] - 2s 29ms/step - loss: 0.0200\n",
      "Epoch 6/6\n",
      "63/63 [==============================] - 2s 30ms/step - loss: 0.0177\n"
     ]
    },
    {
     "data": {
      "text/plain": [
       "<keras.callbacks.History at 0x1a34e082b0>"
      ]
     },
     "execution_count": 26,
     "metadata": {},
     "output_type": "execute_result"
    }
   ],
   "source": [
    "# Fit RNN to training set\n",
    "estimator.fit(x=X_train, y=y_train, batch_size=32, epochs=6)"
   ]
  },
  {
   "cell_type": "code",
   "execution_count": 14,
   "metadata": {},
   "outputs": [],
   "source": [
    "# now, get Google's stock dataset as test and apply the LSTM to it\n",
    "dataset_Google = pd.read_csv('GOOGL_2006-01-01_to_2018-01-01.csv')\n",
    "dataset_Google = dataset_Google.fillna(dataset_Google.mean())"
   ]
  },
  {
   "cell_type": "code",
   "execution_count": 15,
   "metadata": {},
   "outputs": [
    {
     "data": {
      "text/html": [
       "<div>\n",
       "<style scoped>\n",
       "    .dataframe tbody tr th:only-of-type {\n",
       "        vertical-align: middle;\n",
       "    }\n",
       "\n",
       "    .dataframe tbody tr th {\n",
       "        vertical-align: top;\n",
       "    }\n",
       "\n",
       "    .dataframe thead th {\n",
       "        text-align: right;\n",
       "    }\n",
       "</style>\n",
       "<table border=\"1\" class=\"dataframe\">\n",
       "  <thead>\n",
       "    <tr style=\"text-align: right;\">\n",
       "      <th></th>\n",
       "      <th>Open</th>\n",
       "      <th>High</th>\n",
       "      <th>Low</th>\n",
       "      <th>Close</th>\n",
       "      <th>Volume</th>\n",
       "    </tr>\n",
       "  </thead>\n",
       "  <tbody>\n",
       "    <tr>\n",
       "      <th>count</th>\n",
       "      <td>3019.000000</td>\n",
       "      <td>3019.000000</td>\n",
       "      <td>3019.000000</td>\n",
       "      <td>3019.000000</td>\n",
       "      <td>3.019000e+03</td>\n",
       "    </tr>\n",
       "    <tr>\n",
       "      <th>mean</th>\n",
       "      <td>428.200802</td>\n",
       "      <td>431.835618</td>\n",
       "      <td>424.130275</td>\n",
       "      <td>428.044001</td>\n",
       "      <td>3.551504e+06</td>\n",
       "    </tr>\n",
       "    <tr>\n",
       "      <th>std</th>\n",
       "      <td>236.320026</td>\n",
       "      <td>237.514087</td>\n",
       "      <td>234.923747</td>\n",
       "      <td>236.343238</td>\n",
       "      <td>3.038599e+06</td>\n",
       "    </tr>\n",
       "    <tr>\n",
       "      <th>min</th>\n",
       "      <td>131.390000</td>\n",
       "      <td>134.820000</td>\n",
       "      <td>123.770000</td>\n",
       "      <td>128.850000</td>\n",
       "      <td>5.211410e+05</td>\n",
       "    </tr>\n",
       "    <tr>\n",
       "      <th>25%</th>\n",
       "      <td>247.775000</td>\n",
       "      <td>250.190000</td>\n",
       "      <td>244.035000</td>\n",
       "      <td>247.605000</td>\n",
       "      <td>1.760854e+06</td>\n",
       "    </tr>\n",
       "    <tr>\n",
       "      <th>50%</th>\n",
       "      <td>310.480000</td>\n",
       "      <td>312.810000</td>\n",
       "      <td>307.790000</td>\n",
       "      <td>310.080000</td>\n",
       "      <td>2.517630e+06</td>\n",
       "    </tr>\n",
       "    <tr>\n",
       "      <th>75%</th>\n",
       "      <td>572.140000</td>\n",
       "      <td>575.975000</td>\n",
       "      <td>565.900000</td>\n",
       "      <td>570.770000</td>\n",
       "      <td>4.242182e+06</td>\n",
       "    </tr>\n",
       "    <tr>\n",
       "      <th>max</th>\n",
       "      <td>1083.020000</td>\n",
       "      <td>1086.490000</td>\n",
       "      <td>1072.270000</td>\n",
       "      <td>1085.090000</td>\n",
       "      <td>4.118289e+07</td>\n",
       "    </tr>\n",
       "  </tbody>\n",
       "</table>\n",
       "</div>"
      ],
      "text/plain": [
       "              Open         High          Low        Close        Volume\n",
       "count  3019.000000  3019.000000  3019.000000  3019.000000  3.019000e+03\n",
       "mean    428.200802   431.835618   424.130275   428.044001  3.551504e+06\n",
       "std     236.320026   237.514087   234.923747   236.343238  3.038599e+06\n",
       "min     131.390000   134.820000   123.770000   128.850000  5.211410e+05\n",
       "25%     247.775000   250.190000   244.035000   247.605000  1.760854e+06\n",
       "50%     310.480000   312.810000   307.790000   310.080000  2.517630e+06\n",
       "75%     572.140000   575.975000   565.900000   570.770000  4.242182e+06\n",
       "max    1083.020000  1086.490000  1072.270000  1085.090000  4.118289e+07"
      ]
     },
     "execution_count": 15,
     "metadata": {},
     "output_type": "execute_result"
    }
   ],
   "source": [
    "dataset_Google.describe()"
   ]
  },
  {
   "cell_type": "code",
   "execution_count": 16,
   "metadata": {},
   "outputs": [
    {
     "name": "stdout",
     "output_type": "stream",
     "text": [
      "(3019, 1)\n"
     ]
    }
   ],
   "source": [
    "test_set_Google = dataset_Google.iloc[:, 1:2].values\n",
    "print(test_set_Google.shape)"
   ]
  },
  {
   "cell_type": "code",
   "execution_count": 17,
   "metadata": {},
   "outputs": [
    {
     "name": "stdout",
     "output_type": "stream",
     "text": [
      "(3019, 1)\n"
     ]
    }
   ],
   "source": [
    "sc_test_set = sc.fit_transform(test_set_Google)\n",
    "print(sc_test_set.shape)"
   ]
  },
  {
   "cell_type": "code",
   "execution_count": 18,
   "metadata": {},
   "outputs": [
    {
     "name": "stdout",
     "output_type": "stream",
     "text": [
      "14\n"
     ]
    }
   ],
   "source": [
    "inputs = []\n",
    "for i in range(120, 520, 30):\n",
    "    inputs.append(sc_test_set[i-120:i, 0])\n",
    "print(len(inputs))"
   ]
  },
  {
   "cell_type": "code",
   "execution_count": 20,
   "metadata": {},
   "outputs": [
    {
     "name": "stdout",
     "output_type": "stream",
     "text": [
      "[203.58, 191.6, 203.75, 239.62, 240.37, 248.49, 224.15, 240.28, 257.27, 254.9, 261.96, 315.54, 345.72, 325.9]\n"
     ]
    }
   ],
   "source": [
    "# now, get test_set array with values that are divisible by 30 days for comparisons\n",
    "test_set_30days = []\n",
    "for i in range(120, 520, 30):\n",
    "    test_set_30days.append(test_set_Google[i, 0])\n",
    "print((test_set_30days))"
   ]
  },
  {
   "cell_type": "code",
   "execution_count": 21,
   "metadata": {
    "scrolled": true
   },
   "outputs": [
    {
     "name": "stdout",
     "output_type": "stream",
     "text": [
      "(14, 120, 1)\n"
     ]
    }
   ],
   "source": [
    "inputs = np.array(inputs)\n",
    "inputs = np.reshape(inputs, (inputs.shape[0], inputs.shape[1], 1))\n",
    "print(inputs.shape)"
   ]
  },
  {
   "cell_type": "code",
   "execution_count": 27,
   "metadata": {},
   "outputs": [],
   "source": [
    "prediction = estimator.predict(inputs)\n",
    "prediction = sc.inverse_transform(prediction)"
   ]
  },
  {
   "cell_type": "code",
   "execution_count": 28,
   "metadata": {},
   "outputs": [
    {
     "data": {
      "text/plain": [
       "array([[245.114  ],\n",
       "       [242.95782],\n",
       "       [245.6389 ],\n",
       "       [270.7877 ],\n",
       "       [280.72125],\n",
       "       [282.6113 ],\n",
       "       [268.3082 ],\n",
       "       [276.3871 ],\n",
       "       [284.24408],\n",
       "       [301.02844],\n",
       "       [289.03992],\n",
       "       [323.86752],\n",
       "       [344.02573],\n",
       "       [348.09088]], dtype=float32)"
      ]
     },
     "execution_count": 28,
     "metadata": {},
     "output_type": "execute_result"
    }
   ],
   "source": [
    "prediction"
   ]
  },
  {
   "cell_type": "code",
   "execution_count": 29,
   "metadata": {},
   "outputs": [
    {
     "data": {
      "image/png": "[encoded data removed]",
      "text/plain": [
       "<Figure size 432x288 with 1 Axes>"
      ]
     },
     "metadata": {
      "needs_background": "light"
     },
     "output_type": "display_data"
    }
   ],
   "source": [
    "# Visualizing the results\n",
    "plt.plot(test_set_30days, color = 'green', label = 'Actual stock prices')\n",
    "plt.plot(prediction, color = 'blue', label = 'Predicted stock prices')\n",
    "plt.title('Google Stock Price Prediction from last 520 days by 30 days')\n",
    "plt.xlabel('Time(Days)')\n",
    "plt.ylabel('Stock Price ($)')\n",
    "plt.legend()\n",
    "plt.show()"
   ]
  },
  {
   "cell_type": "code",
   "execution_count": null,
   "metadata": {},
   "outputs": [],
   "source": []
  }
 ],
 "metadata": {
  "kernelspec": {
   "display_name": "Python 3",
   "language": "python",
   "name": "python3"
  },
  "language_info": {
   "codemirror_mode": {
    "name": "ipython",
    "version": 3
   },
   "file_extension": ".py",
   "mimetype": "text/x-python",
   "name": "python",
   "nbconvert_exporter": "python",
   "pygments_lexer": "ipython3",
   "version": "3.6.8"
  }
 },
 "nbformat": 4,
 "nbformat_minor": 2
}
