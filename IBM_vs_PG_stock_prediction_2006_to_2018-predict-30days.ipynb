{
 "cells": [
  {
   "cell_type": "code",
   "execution_count": 1,
   "metadata": {},
   "outputs": [],
   "source": [
    "import numpy as np\n",
    "import matplotlib.pyplot as plt \n",
    "import pandas as pd"
   ]
  },
  {
   "cell_type": "code",
   "execution_count": 2,
   "metadata": {},
   "outputs": [],
   "source": [
    "dataset_IBM = pd.read_csv('IBM_2006-01-01_to_2018-01-01.csv')\n",
    "dataset_IBM = dataset_IBM.fillna(dataset_IBM.mean())"
   ]
  },
  {
   "cell_type": "code",
   "execution_count": 3,
   "metadata": {},
   "outputs": [
    {
     "data": {
      "text/html": [
       "<div>\n",
       "<style scoped>\n",
       "    .dataframe tbody tr th:only-of-type {\n",
       "        vertical-align: middle;\n",
       "    }\n",
       "\n",
       "    .dataframe tbody tr th {\n",
       "        vertical-align: top;\n",
       "    }\n",
       "\n",
       "    .dataframe thead th {\n",
       "        text-align: right;\n",
       "    }\n",
       "</style>\n",
       "<table border=\"1\" class=\"dataframe\">\n",
       "  <thead>\n",
       "    <tr style=\"text-align: right;\">\n",
       "      <th></th>\n",
       "      <th>Open</th>\n",
       "      <th>High</th>\n",
       "      <th>Low</th>\n",
       "      <th>Close</th>\n",
       "      <th>Volume</th>\n",
       "    </tr>\n",
       "  </thead>\n",
       "  <tbody>\n",
       "    <tr>\n",
       "      <th>count</th>\n",
       "      <td>3020.000000</td>\n",
       "      <td>3020.000000</td>\n",
       "      <td>3020.000000</td>\n",
       "      <td>3020.000000</td>\n",
       "      <td>3.020000e+03</td>\n",
       "    </tr>\n",
       "    <tr>\n",
       "      <th>mean</th>\n",
       "      <td>145.515545</td>\n",
       "      <td>146.681738</td>\n",
       "      <td>144.471597</td>\n",
       "      <td>145.617278</td>\n",
       "      <td>5.773301e+06</td>\n",
       "    </tr>\n",
       "    <tr>\n",
       "      <th>std</th>\n",
       "      <td>37.548726</td>\n",
       "      <td>37.613446</td>\n",
       "      <td>37.471433</td>\n",
       "      <td>37.529387</td>\n",
       "      <td>3.192831e+06</td>\n",
       "    </tr>\n",
       "    <tr>\n",
       "      <th>min</th>\n",
       "      <td>72.740000</td>\n",
       "      <td>73.940000</td>\n",
       "      <td>69.500000</td>\n",
       "      <td>71.740000</td>\n",
       "      <td>2.542560e+05</td>\n",
       "    </tr>\n",
       "    <tr>\n",
       "      <th>25%</th>\n",
       "      <td>116.407500</td>\n",
       "      <td>117.765000</td>\n",
       "      <td>115.500000</td>\n",
       "      <td>116.525000</td>\n",
       "      <td>3.622681e+06</td>\n",
       "    </tr>\n",
       "    <tr>\n",
       "      <th>50%</th>\n",
       "      <td>149.605000</td>\n",
       "      <td>150.330000</td>\n",
       "      <td>148.425000</td>\n",
       "      <td>149.315000</td>\n",
       "      <td>4.928852e+06</td>\n",
       "    </tr>\n",
       "    <tr>\n",
       "      <th>75%</th>\n",
       "      <td>178.437500</td>\n",
       "      <td>179.762500</td>\n",
       "      <td>177.320000</td>\n",
       "      <td>178.685000</td>\n",
       "      <td>6.965014e+06</td>\n",
       "    </tr>\n",
       "    <tr>\n",
       "      <th>max</th>\n",
       "      <td>215.380000</td>\n",
       "      <td>215.900000</td>\n",
       "      <td>214.300000</td>\n",
       "      <td>215.800000</td>\n",
       "      <td>3.077428e+07</td>\n",
       "    </tr>\n",
       "  </tbody>\n",
       "</table>\n",
       "</div>"
      ],
      "text/plain": [
       "              Open         High          Low        Close        Volume\n",
       "count  3020.000000  3020.000000  3020.000000  3020.000000  3.020000e+03\n",
       "mean    145.515545   146.681738   144.471597   145.617278  5.773301e+06\n",
       "std      37.548726    37.613446    37.471433    37.529387  3.192831e+06\n",
       "min      72.740000    73.940000    69.500000    71.740000  2.542560e+05\n",
       "25%     116.407500   117.765000   115.500000   116.525000  3.622681e+06\n",
       "50%     149.605000   150.330000   148.425000   149.315000  4.928852e+06\n",
       "75%     178.437500   179.762500   177.320000   178.685000  6.965014e+06\n",
       "max     215.380000   215.900000   214.300000   215.800000  3.077428e+07"
      ]
     },
     "execution_count": 3,
     "metadata": {},
     "output_type": "execute_result"
    }
   ],
   "source": [
    "dataset_IBM.describe()"
   ]
  },
  {
   "cell_type": "code",
   "execution_count": 4,
   "metadata": {},
   "outputs": [
    {
     "data": {
      "text/html": [
       "<div>\n",
       "<style scoped>\n",
       "    .dataframe tbody tr th:only-of-type {\n",
       "        vertical-align: middle;\n",
       "    }\n",
       "\n",
       "    .dataframe tbody tr th {\n",
       "        vertical-align: top;\n",
       "    }\n",
       "\n",
       "    .dataframe thead th {\n",
       "        text-align: right;\n",
       "    }\n",
       "</style>\n",
       "<table border=\"1\" class=\"dataframe\">\n",
       "  <thead>\n",
       "    <tr style=\"text-align: right;\">\n",
       "      <th></th>\n",
       "      <th>Date</th>\n",
       "      <th>Open</th>\n",
       "      <th>High</th>\n",
       "      <th>Low</th>\n",
       "      <th>Close</th>\n",
       "      <th>Volume</th>\n",
       "      <th>Name</th>\n",
       "    </tr>\n",
       "  </thead>\n",
       "  <tbody>\n",
       "    <tr>\n",
       "      <th>0</th>\n",
       "      <td>2006-01-03</td>\n",
       "      <td>82.45</td>\n",
       "      <td>82.55</td>\n",
       "      <td>80.81</td>\n",
       "      <td>82.06</td>\n",
       "      <td>11715200</td>\n",
       "      <td>IBM</td>\n",
       "    </tr>\n",
       "    <tr>\n",
       "      <th>1</th>\n",
       "      <td>2006-01-04</td>\n",
       "      <td>82.20</td>\n",
       "      <td>82.50</td>\n",
       "      <td>81.33</td>\n",
       "      <td>81.95</td>\n",
       "      <td>9840600</td>\n",
       "      <td>IBM</td>\n",
       "    </tr>\n",
       "    <tr>\n",
       "      <th>2</th>\n",
       "      <td>2006-01-05</td>\n",
       "      <td>81.40</td>\n",
       "      <td>82.90</td>\n",
       "      <td>81.00</td>\n",
       "      <td>82.50</td>\n",
       "      <td>7213500</td>\n",
       "      <td>IBM</td>\n",
       "    </tr>\n",
       "    <tr>\n",
       "      <th>3</th>\n",
       "      <td>2006-01-06</td>\n",
       "      <td>83.95</td>\n",
       "      <td>85.03</td>\n",
       "      <td>83.41</td>\n",
       "      <td>84.95</td>\n",
       "      <td>8197400</td>\n",
       "      <td>IBM</td>\n",
       "    </tr>\n",
       "    <tr>\n",
       "      <th>4</th>\n",
       "      <td>2006-01-09</td>\n",
       "      <td>84.10</td>\n",
       "      <td>84.25</td>\n",
       "      <td>83.38</td>\n",
       "      <td>83.73</td>\n",
       "      <td>6858200</td>\n",
       "      <td>IBM</td>\n",
       "    </tr>\n",
       "  </tbody>\n",
       "</table>\n",
       "</div>"
      ],
      "text/plain": [
       "         Date   Open   High    Low  Close    Volume Name\n",
       "0  2006-01-03  82.45  82.55  80.81  82.06  11715200  IBM\n",
       "1  2006-01-04  82.20  82.50  81.33  81.95   9840600  IBM\n",
       "2  2006-01-05  81.40  82.90  81.00  82.50   7213500  IBM\n",
       "3  2006-01-06  83.95  85.03  83.41  84.95   8197400  IBM\n",
       "4  2006-01-09  84.10  84.25  83.38  83.73   6858200  IBM"
      ]
     },
     "execution_count": 4,
     "metadata": {},
     "output_type": "execute_result"
    }
   ],
   "source": [
    "dataset_IBM.head()"
   ]
  },
  {
   "cell_type": "code",
   "execution_count": 5,
   "metadata": {},
   "outputs": [
    {
     "data": {
      "text/html": [
       "<div>\n",
       "<style scoped>\n",
       "    .dataframe tbody tr th:only-of-type {\n",
       "        vertical-align: middle;\n",
       "    }\n",
       "\n",
       "    .dataframe tbody tr th {\n",
       "        vertical-align: top;\n",
       "    }\n",
       "\n",
       "    .dataframe thead th {\n",
       "        text-align: right;\n",
       "    }\n",
       "</style>\n",
       "<table border=\"1\" class=\"dataframe\">\n",
       "  <thead>\n",
       "    <tr style=\"text-align: right;\">\n",
       "      <th></th>\n",
       "      <th>Date</th>\n",
       "      <th>Open</th>\n",
       "      <th>High</th>\n",
       "      <th>Low</th>\n",
       "      <th>Close</th>\n",
       "      <th>Volume</th>\n",
       "      <th>Name</th>\n",
       "    </tr>\n",
       "  </thead>\n",
       "  <tbody>\n",
       "    <tr>\n",
       "      <th>3015</th>\n",
       "      <td>2017-12-22</td>\n",
       "      <td>151.82</td>\n",
       "      <td>153.00</td>\n",
       "      <td>151.50</td>\n",
       "      <td>152.50</td>\n",
       "      <td>2990583</td>\n",
       "      <td>IBM</td>\n",
       "    </tr>\n",
       "    <tr>\n",
       "      <th>3016</th>\n",
       "      <td>2017-12-26</td>\n",
       "      <td>152.51</td>\n",
       "      <td>153.86</td>\n",
       "      <td>152.50</td>\n",
       "      <td>152.83</td>\n",
       "      <td>2479017</td>\n",
       "      <td>IBM</td>\n",
       "    </tr>\n",
       "    <tr>\n",
       "      <th>3017</th>\n",
       "      <td>2017-12-27</td>\n",
       "      <td>152.95</td>\n",
       "      <td>153.18</td>\n",
       "      <td>152.61</td>\n",
       "      <td>153.13</td>\n",
       "      <td>2149257</td>\n",
       "      <td>IBM</td>\n",
       "    </tr>\n",
       "    <tr>\n",
       "      <th>3018</th>\n",
       "      <td>2017-12-28</td>\n",
       "      <td>153.20</td>\n",
       "      <td>154.12</td>\n",
       "      <td>153.20</td>\n",
       "      <td>154.04</td>\n",
       "      <td>2687624</td>\n",
       "      <td>IBM</td>\n",
       "    </tr>\n",
       "    <tr>\n",
       "      <th>3019</th>\n",
       "      <td>2017-12-29</td>\n",
       "      <td>154.17</td>\n",
       "      <td>154.72</td>\n",
       "      <td>153.42</td>\n",
       "      <td>153.42</td>\n",
       "      <td>3327087</td>\n",
       "      <td>IBM</td>\n",
       "    </tr>\n",
       "  </tbody>\n",
       "</table>\n",
       "</div>"
      ],
      "text/plain": [
       "            Date    Open    High     Low   Close   Volume Name\n",
       "3015  2017-12-22  151.82  153.00  151.50  152.50  2990583  IBM\n",
       "3016  2017-12-26  152.51  153.86  152.50  152.83  2479017  IBM\n",
       "3017  2017-12-27  152.95  153.18  152.61  153.13  2149257  IBM\n",
       "3018  2017-12-28  153.20  154.12  153.20  154.04  2687624  IBM\n",
       "3019  2017-12-29  154.17  154.72  153.42  153.42  3327087  IBM"
      ]
     },
     "execution_count": 5,
     "metadata": {},
     "output_type": "execute_result"
    }
   ],
   "source": [
    "dataset_IBM.tail()"
   ]
  },
  {
   "cell_type": "code",
   "execution_count": 6,
   "metadata": {},
   "outputs": [
    {
     "data": {
      "text/plain": [
       "array([[ 82.45],\n",
       "       [ 82.2 ],\n",
       "       [ 81.4 ],\n",
       "       ...,\n",
       "       [177.99],\n",
       "       [176.88],\n",
       "       [177.  ]])"
      ]
     },
     "execution_count": 6,
     "metadata": {},
     "output_type": "execute_result"
    }
   ],
   "source": [
    "training_set = dataset_IBM.iloc[0:2000, 1:2].values\n",
    "training_set"
   ]
  },
  {
   "cell_type": "code",
   "execution_count": 7,
   "metadata": {},
   "outputs": [
    {
     "data": {
      "text/plain": [
       "array([[0.06807347],\n",
       "       [0.06632081],\n",
       "       [0.06071228],\n",
       "       ...,\n",
       "       [0.73787156],\n",
       "       [0.73008974],\n",
       "       [0.73093102]])"
      ]
     },
     "execution_count": 7,
     "metadata": {},
     "output_type": "execute_result"
    }
   ],
   "source": [
    "from sklearn.preprocessing import MinMaxScaler\n",
    "sc = MinMaxScaler(feature_range = (0,1))\n",
    "sc_training_set = sc.fit_transform(training_set)\n",
    "sc_training_set"
   ]
  },
  {
   "cell_type": "code",
   "execution_count": 8,
   "metadata": {},
   "outputs": [],
   "source": [
    "# Create a data structure with 120 timesteps and 1 output to predict every 30 days\n",
    "X_train = []\n",
    "y_train = []\n",
    "for i in range(120, 2000, 30):\n",
    "    X_train.append(sc_training_set[i-120:i,0])\n",
    "    y_train.append(sc_training_set[i,0])"
   ]
  },
  {
   "cell_type": "code",
   "execution_count": 9,
   "metadata": {},
   "outputs": [],
   "source": [
    "# convert them from lists to numpy arrays to train the estimator later\n",
    "X_train = np.array(X_train)\n",
    "X_train = np.reshape(X_train, (X_train.shape[0], X_train.shape[1], 1))\n",
    "y_train = np.array(y_train)"
   ]
  },
  {
   "cell_type": "code",
   "execution_count": 10,
   "metadata": {},
   "outputs": [
    {
     "name": "stderr",
     "output_type": "stream",
     "text": [
      "Using TensorFlow backend.\n"
     ]
    }
   ],
   "source": [
    "# Import the following libraries to build RNN architecture\n",
    "from keras.models import Sequential\n",
    "from keras.layers import Dense\n",
    "from keras.layers import LSTM\n",
    "from keras.layers import Dropout"
   ]
  },
  {
   "cell_type": "code",
   "execution_count": 11,
   "metadata": {},
   "outputs": [],
   "source": [
    "# Initialize RNN, 2 LSTM layers\n",
    "estimator = Sequential()\n",
    "\n",
    "estimator.add(LSTM(units=100,return_sequences=True,input_shape=(X_train.shape[1],1)))\n",
    "estimator.add(Dropout(0.2))\n",
    "\n",
    "# final LSTM layer\n",
    "estimator.add(LSTM(units = 100))\n",
    "estimator.add(Dropout(0.2))\n",
    "\n",
    "# add output layer\n",
    "estimator.add(Dense(units = 1))"
   ]
  },
  {
   "cell_type": "code",
   "execution_count": 12,
   "metadata": {},
   "outputs": [],
   "source": [
    "# compiling the RNN\n",
    "estimator.compile(optimizer = 'adam', loss = 'mean_squared_error')"
   ]
  },
  {
   "cell_type": "code",
   "execution_count": 13,
   "metadata": {
    "scrolled": true
   },
   "outputs": [
    {
     "name": "stdout",
     "output_type": "stream",
     "text": [
      "Epoch 1/6\n",
      "63/63 [==============================] - 9s 137ms/step - loss: 0.2713\n",
      "Epoch 2/6\n",
      "63/63 [==============================] - 2s 30ms/step - loss: 0.1312\n",
      "Epoch 3/6\n",
      "63/63 [==============================] - 2s 31ms/step - loss: 0.0185\n",
      "Epoch 4/6\n",
      "63/63 [==============================] - 2s 30ms/step - loss: 0.0482\n",
      "Epoch 5/6\n",
      "63/63 [==============================] - 2s 30ms/step - loss: 0.0250\n",
      "Epoch 6/6\n",
      "63/63 [==============================] - 2s 30ms/step - loss: 0.0074\n"
     ]
    },
    {
     "data": {
      "text/plain": [
       "<keras.callbacks.History at 0x1a1818bfd0>"
      ]
     },
     "execution_count": 13,
     "metadata": {},
     "output_type": "execute_result"
    }
   ],
   "source": [
    "# Fit RNN to training set\n",
    "estimator.fit(x=X_train, y=y_train, batch_size=32, epochs=6)"
   ]
  },
  {
   "cell_type": "code",
   "execution_count": 14,
   "metadata": {},
   "outputs": [],
   "source": [
    "# now, get PG's stock dataset as test and apply the LSTM to it\n",
    "dataset_PG = pd.read_csv('PG_2006-01-01_to_2018-01-01.csv')\n",
    "dataset_PG = dataset_PG.fillna(dataset_PG.mean())"
   ]
  },
  {
   "cell_type": "code",
   "execution_count": 15,
   "metadata": {},
   "outputs": [
    {
     "data": {
      "text/html": [
       "<div>\n",
       "<style scoped>\n",
       "    .dataframe tbody tr th:only-of-type {\n",
       "        vertical-align: middle;\n",
       "    }\n",
       "\n",
       "    .dataframe tbody tr th {\n",
       "        vertical-align: top;\n",
       "    }\n",
       "\n",
       "    .dataframe thead th {\n",
       "        text-align: right;\n",
       "    }\n",
       "</style>\n",
       "<table border=\"1\" class=\"dataframe\">\n",
       "  <thead>\n",
       "    <tr style=\"text-align: right;\">\n",
       "      <th></th>\n",
       "      <th>Open</th>\n",
       "      <th>High</th>\n",
       "      <th>Low</th>\n",
       "      <th>Close</th>\n",
       "      <th>Volume</th>\n",
       "    </tr>\n",
       "  </thead>\n",
       "  <tbody>\n",
       "    <tr>\n",
       "      <th>count</th>\n",
       "      <td>3020.000000</td>\n",
       "      <td>3020.000000</td>\n",
       "      <td>3020.000000</td>\n",
       "      <td>3020.000000</td>\n",
       "      <td>3.020000e+03</td>\n",
       "    </tr>\n",
       "    <tr>\n",
       "      <th>mean</th>\n",
       "      <td>70.937138</td>\n",
       "      <td>71.422474</td>\n",
       "      <td>70.466996</td>\n",
       "      <td>70.970583</td>\n",
       "      <td>1.059313e+07</td>\n",
       "    </tr>\n",
       "    <tr>\n",
       "      <th>std</th>\n",
       "      <td>11.219631</td>\n",
       "      <td>11.211023</td>\n",
       "      <td>11.249926</td>\n",
       "      <td>11.223018</td>\n",
       "      <td>6.345311e+06</td>\n",
       "    </tr>\n",
       "    <tr>\n",
       "      <th>min</th>\n",
       "      <td>44.510000</td>\n",
       "      <td>45.190000</td>\n",
       "      <td>39.370000</td>\n",
       "      <td>44.180000</td>\n",
       "      <td>6.656760e+05</td>\n",
       "    </tr>\n",
       "    <tr>\n",
       "      <th>25%</th>\n",
       "      <td>62.480000</td>\n",
       "      <td>62.987500</td>\n",
       "      <td>62.080000</td>\n",
       "      <td>62.560000</td>\n",
       "      <td>7.156298e+06</td>\n",
       "    </tr>\n",
       "    <tr>\n",
       "      <th>50%</th>\n",
       "      <td>67.140000</td>\n",
       "      <td>67.645000</td>\n",
       "      <td>66.840000</td>\n",
       "      <td>67.210000</td>\n",
       "      <td>9.181098e+06</td>\n",
       "    </tr>\n",
       "    <tr>\n",
       "      <th>75%</th>\n",
       "      <td>80.855000</td>\n",
       "      <td>81.352500</td>\n",
       "      <td>80.345000</td>\n",
       "      <td>80.942500</td>\n",
       "      <td>1.200428e+07</td>\n",
       "    </tr>\n",
       "    <tr>\n",
       "      <th>max</th>\n",
       "      <td>94.170000</td>\n",
       "      <td>94.670000</td>\n",
       "      <td>93.830000</td>\n",
       "      <td>94.400000</td>\n",
       "      <td>1.237357e+08</td>\n",
       "    </tr>\n",
       "  </tbody>\n",
       "</table>\n",
       "</div>"
      ],
      "text/plain": [
       "              Open         High          Low        Close        Volume\n",
       "count  3020.000000  3020.000000  3020.000000  3020.000000  3.020000e+03\n",
       "mean     70.937138    71.422474    70.466996    70.970583  1.059313e+07\n",
       "std      11.219631    11.211023    11.249926    11.223018  6.345311e+06\n",
       "min      44.510000    45.190000    39.370000    44.180000  6.656760e+05\n",
       "25%      62.480000    62.987500    62.080000    62.560000  7.156298e+06\n",
       "50%      67.140000    67.645000    66.840000    67.210000  9.181098e+06\n",
       "75%      80.855000    81.352500    80.345000    80.942500  1.200428e+07\n",
       "max      94.170000    94.670000    93.830000    94.400000  1.237357e+08"
      ]
     },
     "execution_count": 15,
     "metadata": {},
     "output_type": "execute_result"
    }
   ],
   "source": [
    "dataset_PG.describe()"
   ]
  },
  {
   "cell_type": "code",
   "execution_count": 16,
   "metadata": {},
   "outputs": [
    {
     "name": "stdout",
     "output_type": "stream",
     "text": [
      "(3020, 1)\n"
     ]
    }
   ],
   "source": [
    "test_set_PG = dataset_PG.iloc[:, 1:2].values\n",
    "print(test_set_PG.shape)"
   ]
  },
  {
   "cell_type": "code",
   "execution_count": 17,
   "metadata": {},
   "outputs": [
    {
     "name": "stdout",
     "output_type": "stream",
     "text": [
      "(3020, 1)\n"
     ]
    }
   ],
   "source": [
    "sc_test_set = sc.fit_transform(test_set_PG)\n",
    "print(sc_test_set.shape)"
   ]
  },
  {
   "cell_type": "code",
   "execution_count": 18,
   "metadata": {},
   "outputs": [
    {
     "name": "stdout",
     "output_type": "stream",
     "text": [
      "14\n"
     ]
    }
   ],
   "source": [
    "inputs = []\n",
    "for i in range(120, 520, 30):\n",
    "    inputs.append(sc_test_set[i-120:i, 0])\n",
    "print(len(inputs))"
   ]
  },
  {
   "cell_type": "code",
   "execution_count": 31,
   "metadata": {},
   "outputs": [
    {
     "name": "stdout",
     "output_type": "stream",
     "text": [
      "[55.74, 59.75, 61.1, 63.2, 63.3, 64.5, 61.36, 62.91, 62.8, 62.57, 65.38, 70.64, 73.82, 70.82]\n"
     ]
    }
   ],
   "source": [
    "# now, get test_set array with values that are divisible by 30 days for comparisons\n",
    "test_set_30days = []\n",
    "for i in range(120, 520, 30):\n",
    "    test_set_30days.append(test_set_PG[i, 0])\n",
    "print((test_set_30days))"
   ]
  },
  {
   "cell_type": "code",
   "execution_count": 25,
   "metadata": {
    "scrolled": true
   },
   "outputs": [
    {
     "name": "stdout",
     "output_type": "stream",
     "text": [
      "(14, 120, 1)\n"
     ]
    }
   ],
   "source": [
    "inputs = np.array(inputs)\n",
    "inputs = np.reshape(inputs, (inputs.shape[0], inputs.shape[1], 1))\n",
    "print(inputs.shape)"
   ]
  },
  {
   "cell_type": "code",
   "execution_count": 26,
   "metadata": {},
   "outputs": [],
   "source": [
    "prediction = estimator.predict(inputs)\n",
    "prediction = sc.inverse_transform(prediction)"
   ]
  },
  {
   "cell_type": "code",
   "execution_count": 27,
   "metadata": {},
   "outputs": [
    {
     "data": {
      "text/plain": [
       "array([[55.64574 ],\n",
       "       [57.227398],\n",
       "       [60.096996],\n",
       "       [61.059437],\n",
       "       [61.594383],\n",
       "       [62.754997],\n",
       "       [61.198666],\n",
       "       [61.62782 ],\n",
       "       [61.396675],\n",
       "       [60.650753],\n",
       "       [62.60415 ],\n",
       "       [66.72952 ],\n",
       "       [67.63892 ],\n",
       "       [68.1652  ]], dtype=float32)"
      ]
     },
     "execution_count": 27,
     "metadata": {},
     "output_type": "execute_result"
    }
   ],
   "source": [
    "prediction"
   ]
  },
  {
   "cell_type": "code",
   "execution_count": 32,
   "metadata": {},
   "outputs": [
    {
     "data": {
      "image/png": "[encoded data removed]",
      "text/plain": [
       "<Figure size 432x288 with 1 Axes>"
      ]
     },
     "metadata": {
      "needs_background": "light"
     },
     "output_type": "display_data"
    }
   ],
   "source": [
    "# Visualizing the results\n",
    "plt.plot(test_set_30days, color = 'green', label = 'Actual stock prices')\n",
    "plt.plot(prediction, color = 'blue', label = 'Predicted stock prices')\n",
    "plt.title('PG Stock Price Prediction from last 520 days by 30 days')\n",
    "plt.xlabel('Time(Days)')\n",
    "plt.ylabel('Stock Price ($)')\n",
    "plt.legend()\n",
    "plt.show()"
   ]
  },
  {
   "cell_type": "code",
   "execution_count": null,
   "metadata": {},
   "outputs": [],
   "source": []
  }
 ],
 "metadata": {
  "kernelspec": {
   "display_name": "Python 3",
   "language": "python",
   "name": "python3"
  },
  "language_info": {
   "codemirror_mode": {
    "name": "ipython",
    "version": 3
   },
   "file_extension": ".py",
   "mimetype": "text/x-python",
   "name": "python",
   "nbconvert_exporter": "python",
   "pygments_lexer": "ipython3",
   "version": "3.6.8"
  }
 },
 "nbformat": 4,
 "nbformat_minor": 2
}
